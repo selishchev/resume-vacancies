{
 "cells": [
  {
   "cell_type": "code",
   "execution_count": null,
   "metadata": {
    "id": "Rl2zHnxZkNuB"
   },
   "outputs": [],
   "source": [
    "from bs4 import BeautifulSoup\n",
    "from nltk.corpus import stopwords\n",
    "from nltk.tokenize import word_tokenize\n",
    "from nltk.stem import SnowballStemmer\n",
    "import string\n",
    "from sklearn.feature_extraction.text import TfidfTransformer\n",
    "from sklearn.feature_extraction.text import CountVectorizer\n",
    "import numpy as np\n",
    "import time\n",
    "import requests\n",
    "import threading\n",
    "import nltk\n",
    "import json\n",
    "from sklearn.metrics.pairwise import cosine_similarity\n",
    "from scipy import spatial\n",
    "from sklearn.preprocessing import normalize"
   ]
  },
  {
   "cell_type": "code",
   "execution_count": null,
   "metadata": {
    "colab": {
     "base_uri": "https://localhost:8080/"
    },
    "id": "OA9lSl0-lj35",
    "outputId": "861f4491-dab3-4109-de15-bfcb6aa1590f"
   },
   "outputs": [
    {
     "name": "stderr",
     "output_type": "stream",
     "text": [
      "[nltk_data] Downloading package stopwords to\n",
      "[nltk_data]     C:\\Users\\Polzovatel\\AppData\\Roaming\\nltk_data...\n",
      "[nltk_data]   Package stopwords is already up-to-date!\n",
      "[nltk_data] Downloading package punkt to\n",
      "[nltk_data]     C:\\Users\\Polzovatel\\AppData\\Roaming\\nltk_data...\n",
      "[nltk_data]   Package punkt is already up-to-date!\n"
     ]
    },
    {
     "data": {
      "text/plain": [
       "True"
      ]
     },
     "execution_count": 3,
     "metadata": {},
     "output_type": "execute_result"
    }
   ],
   "source": [
    "# downloading stop words and punctuation\n",
    "nltk.download('stopwords')\n",
    "nltk.download('punkt')"
   ]
  },
  {
   "cell_type": "code",
   "execution_count": null,
   "metadata": {
    "id": "UUn4U-BWk59F"
   },
   "outputs": [],
   "source": [
    "# getting stop words and initializing a stemmer\n",
    "stop_words = stopwords.words('russian')\n",
    "stemmer = SnowballStemmer(language='russian')"
   ]
  },
  {
   "cell_type": "code",
   "execution_count": null,
   "metadata": {
    "id": "8-tVil8HpiaK"
   },
   "outputs": [],
   "source": [
    "headersForVacancy = {'Authorization': '#'}\n",
    "def getVacancy(spec_words_lst, all_filtered_tokens, lock2, vacId):\n",
    "  # text cleaning and getting vacancy information\n",
    "  \n",
    "  filtered_tokens = []\n",
    "  try:\n",
    "      response = requests.get(f'https://api.hh.ru/vacancies/{vacId}', headers=headersForVacancy)\n",
    "  except:\n",
    "      response = requests.get(f'https://api.hh.ru/vacancies/{vacId}', headers=headersForVacancy)\n",
    "  if response.status_code != 200:\n",
    "    print('error')\n",
    "  vac = response.json()\n",
    "  while 'errors' in vac:\n",
    "        vac = requests.get(f'https://api.hh.ru/vacancies/{vacId}', headers=headersForVacancy).json()\n",
    "  \n",
    "  desc = vac['name'].lower() + ' '\n",
    "\n",
    "  for k in vac['key_skills']:\n",
    "      desc += k['name'].lower() + ' '\n",
    "  # print(vac['key_skills'])\n",
    "  soup = BeautifulSoup(vac['description'], 'html.parser')\n",
    "  desc += soup.text.lower()\n",
    "  token_desc1 = word_tokenize(desc, language='russian')\n",
    "  # print(vac)\n",
    "  # print(token_desc1)\n",
    "  for token in token_desc1:\n",
    "      if token not in stop_words and token not in punct and 'ə' not in token:\n",
    "          stemmed_token = stemmer.stem(token)\n",
    "          filtered_tokens.append(stemmed_token)\n",
    "          all_filtered_tokens.add(stemmed_token) \n",
    "  # print(filtered_tokens)\n",
    "  spec_words_vac = ' '.join(filtered_tokens)\n",
    "  # print(spec_words_vac)\n",
    "  spec_words_lst.append(spec_words_vac)\n",
    "  lock2.release()"
   ]
  },
  {
   "cell_type": "code",
   "execution_count": null,
   "metadata": {
    "id": "FAwz30tOpien"
   },
   "outputs": [],
   "source": [
    "def setVacancyInfo(vacancies, spec_words_lst, all_filtered_tokens):\n",
    "  # using multithreading to get information from all vacancies\n",
    "  \n",
    "  lock2 = threading.Semaphore(100)\n",
    "  thread_pool2 = []\n",
    "  for vacId in set([vacancy['id'] for vacancy in vacancies]):\n",
    "      thread = threading.Thread(target=getVacancy, args=(spec_words_lst, all_filtered_tokens, lock2, vacId))\n",
    "      thread_pool2.append(thread)\n",
    "      thread.start()\n",
    "      lock2.acquire()\n",
    "\n",
    "  for thread in thread_pool2:\n",
    "      thread.join()\n",
    "  # lock.release()\n",
    "\n"
   ]
  },
  {
   "cell_type": "code",
   "execution_count": null,
   "metadata": {
    "id": "yFrsig7vk7k2"
   },
   "outputs": [],
   "source": [
    "headersForVacancy = {'Authorization': '#'}\n",
    "\n",
    "lst = [i for i in range(113, 147)]\n",
    "\n",
    "searchParams = {'period': '30', 'per_page': '100', 'responses_count_enabled': 'false'}\n",
    "\n",
    "punct = string.punctuation.replace(\"#\", \"\") + '—' + '”' + '“' + '``' + '«' + '»' + '•' + '/'\n",
    "\n",
    "lock = threading.Semaphore(100)\n",
    "\n",
    "def create_global_dict(specs_id_lst):\n",
    "    # creating the global dictionary of most important words for all specializations\n",
    "    \n",
    "    global_spec_words_dict = {}\n",
    "    for n in specs_id_lst:\n",
    "        vacancies_ids = []\n",
    "        \n",
    "        spec_words_dict = {}\n",
    "        spec_words_lst = []\n",
    "        all_filtered_tokens = set()\n",
    "        \n",
    "        thread_pool = []\n",
    "        t = time.time()\n",
    "        for i in range(10):\n",
    "            print(len(spec_words_lst))\n",
    "            response = requests.get(f'https://api.hh.ru/vacancies/?period={searchParams[\"period\"]}&per_page={searchParams[\"per_page\"]}&responses_count_enabled={searchParams[\"responses_count_enabled\"]}&page={i}&professional_role={n}', headers=headersForVacancy)\n",
    "            setVacancyInfo(response.json()['items'], spec_words_lst, all_filtered_tokens)\n",
    "        \n",
    "        vectorizer = CountVectorizer(vocabulary=list(all_filtered_tokens))\n",
    "        X = vectorizer.fit_transform(spec_words_lst)\n",
    "        transformer = TfidfTransformer()\n",
    "        X_tfidf = transformer.fit_transform(X)\n",
    "        X_tfidf_mean = np.mean(X_tfidf.toarray(), axis=0)\n",
    "\n",
    "        # print(len(spec_words_lst))\n",
    "        spec_words_dict = dict(zip(all_filtered_tokens, X_tfidf_mean))\n",
    "        sorted_spec_words_dict = {}\n",
    "        \n",
    "        \n",
    "        sorted_keys = sorted(spec_words_dict, key=spec_words_dict.get, reverse=True)\n",
    "        \n",
    "        for w in sorted_keys:\n",
    "            sorted_spec_words_dict[w] = spec_words_dict[w]\n",
    "\n",
    "        # print(sorted_spec_words_dict)\n",
    "\n",
    "        spec_words_dict_final = {}\n",
    "        for index, key in enumerate(sorted_spec_words_dict):\n",
    "            if index >= 500:\n",
    "                break\n",
    "            else:\n",
    "                spec_words_dict_final[key] = sorted_spec_words_dict[key]\n",
    "        # print(len(spec_words_dict_final))\n",
    "        print(time.time() - t)\n",
    "        global_spec_words_dict[n] = list(spec_words_dict_final.keys())\n",
    "        print(len(global_spec_words_dict))\n",
    "        print(global_spec_words_dict)\n",
    "        try:\n",
    "            with open(\"roles_dictionary.json\", \"a\") as f:\n",
    "                f.write(json.dumps(global_spec_words_dict, ensure_ascii=False))\n",
    "        except Exception as e:\n",
    "            print(e)\n",
    "        finally:\n",
    "            global_spec_words_dict.clear()\n",
    "        \n"
   ]
  },
  {
   "cell_type": "code",
   "execution_count": null,
   "metadata": {},
   "outputs": [],
   "source": [
    "# run only one time\n",
    "# create_global_dict(lst)"
   ]
  },
  {
   "cell_type": "code",
   "execution_count": null,
   "metadata": {
    "id": "-0jfYvPpaoCV"
   },
   "outputs": [],
   "source": [
    "headersForResume = {'Authorization': '#'}\n",
    "\n",
    "def getResume(id):\n",
    "    # getting resume information\n",
    "    \n",
    "    resumeResponse = requests.get('https://api.hh.ru/resumes/' + id, headers=headersForResume)\n",
    "    if resumeResponse.status_code == 200:\n",
    "        return resumeResponse.json()\n",
    "    else:\n",
    "        return False"
   ]
  },
  {
   "cell_type": "code",
   "execution_count": null,
   "metadata": {
    "id": "Xs3NLFgyaoCV",
    "outputId": "f78f167d-5d2e-4e76-d035-4d41fc1212f8"
   },
   "outputs": [
    {
     "name": "stdout",
     "output_type": "stream",
     "text": [
      "['96']\n",
      "{'last_name': None, 'first_name': None, 'middle_name': None, 'title': 'программист C#', 'created_at': '2008-12-16T09:36:17+0300', 'updated_at': '2021-12-06T16:26:44+0300', 'area': {'id': '4', 'name': 'Новосибирск', 'url': 'https://api.hh.ru/areas/4'}, 'age': 36, 'gender': {'id': 'male', 'name': 'Мужской'}, 'salary': {'amount': 300000, 'currency': 'RUR'}, 'photo': None, 'total_experience': {'months': 150}, 'certificate': [], 'hidden_fields': [], 'actions': {'download': {'pdf': {'url': 'https://api.hh.ru/resumes/09c93be900004f2d620039ed1f736563726574/download/%D0%BF%D1%80%D0%BE%D0%B3%D1%80%D0%B0%D0%BC%D0%BC%D0%B8%D1%81%D1%82%20C%23.pdf?type=pdf'}, 'rtf': {'url': 'https://api.hh.ru/resumes/09c93be900004f2d620039ed1f736563726574/download/%D0%BF%D1%80%D0%BE%D0%B3%D1%80%D0%B0%D0%BC%D0%BC%D0%B8%D1%81%D1%82%20C%23.rtf?type=rtf'}}}, 'alternate_url': 'https://hh.ru/resume/09c93be900004f2d620039ed1f736563726574', 'id': '09c93be900004f2d620039ed1f736563726574', 'download': {'pdf': {'url': 'https://api.hh.ru/resumes/09c93be900004f2d620039ed1f736563726574/download/%D0%BF%D1%80%D0%BE%D0%B3%D1%80%D0%B0%D0%BC%D0%BC%D0%B8%D1%81%D1%82%20C%23.pdf?type=pdf'}, 'rtf': {'url': 'https://api.hh.ru/resumes/09c93be900004f2d620039ed1f736563726574/download/%D0%BF%D1%80%D0%BE%D0%B3%D1%80%D0%B0%D0%BC%D0%BC%D0%B8%D1%81%D1%82%20C%23.rtf?type=rtf'}}, 'resume_locale': {'id': 'RU', 'name': 'Русский'}, 'skills': 'Семейное положение: женат\\r\\nДети: сын', 'citizenship': [{'id': '113', 'name': 'Россия', 'url': 'https://api.hh.ru/areas/113'}], 'work_ticket': [{'id': '113', 'name': 'Россия', 'url': 'https://api.hh.ru/areas/113'}], 'birth_date': '1985-02-22', 'contact': [], 'education': {'level': {'id': 'higher', 'name': 'Высшее'}, 'primary': [{'name': 'Алтайский государственный технический университет им. И.И. Ползунова, Барнаул', 'organization': 'Технологический - Прикладная математика', 'result': 'ВСБ 0654994 Инженер-математик.', 'year': 2007, 'name_id': '43981', 'organization_id': None, 'result_id': None}], 'additional': [], 'attestation': [], 'elementary': []}, 'employment': {'id': 'part', 'name': 'Частичная занятость'}, 'employments': [{'id': 'part', 'name': 'Частичная занятость'}, {'id': 'full', 'name': 'Полная занятость'}], 'experience': [{'start': '2019-06-01', 'end': None, 'company': 'Моё дело, ООО', 'company_id': '130150', 'industry': None, 'industries': [{'id': '7.541', 'name': 'Интернет-компания (поисковики, платежные системы, соц.сети, информационно-познавательные и развлекательные ресурсы, продвижение сайтов и прочее)'}, {'id': '43.642', 'name': 'Услуги по ведению бухгалтерского и налогового учета, расчет заработной платы'}], 'area': {'id': '4', 'name': 'Новосибирск', 'url': 'https://api.hh.ru/areas/4'}, 'company_url': 'http://www.moedelo.org/', 'employer': {'id': '130150', 'name': 'Моё дело, ООО', 'url': 'https://api.hh.ru/employers/130150', 'alternate_url': 'https://hh.ru/employer/130150', 'logo_urls': {'90': 'https://hh.ru/employer/logo/130150'}}, 'position': 'TechLead FullStack', 'description': 'Moedelo.org Бюро – оценка контрагентов. (C#, Net Core, MS SQL, PostgreSQL, React)'}, {'start': '2018-08-01', 'end': '2019-06-01', 'company': 'Тензор', 'company_id': '67611', 'industry': None, 'industries': [{'id': '7.540', 'name': 'Разработка программного обеспечения'}], 'area': {'id': '4', 'name': 'Новосибирск', 'url': 'https://api.hh.ru/areas/4'}, 'company_url': 'http://www.tensor.ru', 'employer': {'id': '67611', 'name': 'Тензор', 'url': 'https://api.hh.ru/employers/67611', 'alternate_url': 'https://hh.ru/employer/67611', 'logo_urls': {'90': 'https://hh.ru/employer/logo/67611'}}, 'position': 'online.sbis.ru отчетность и себестоимость', 'description': 'Python, C#, PostgreSQL. Складские остатки.'}, {'start': '2016-09-01', 'end': '2018-08-01', 'company': 'Медиагруппа «Актион-МЦФЭР»', 'company_id': '2800', 'industry': None, 'industries': [{'id': '7.540', 'name': 'Разработка программного обеспечения'}, {'id': '11.453', 'name': 'Производство мультимедиа, контента, редакторская деятельность'}, {'id': '11.452', 'name': 'Издательская деятельность'}, {'id': '11.458', 'name': 'Распространение мультимедиа и печатной продукции'}, {'id': '44.393', 'name': 'Консалтинговые услуги'}], 'area': {'id': '4', 'name': 'Новосибирск', 'url': 'https://api.hh.ru/areas/4'}, 'company_url': 'http://action-media.ru', 'employer': {'id': '2800', 'name': 'Медиагруппа «Актион-МЦФЭР»', 'url': 'https://api.hh.ru/employers/2800', 'alternate_url': 'https://hh.ru/employer/2800', 'logo_urls': {'90': 'https://hh.ru/employer/logo/2800'}}, 'position': 'Старший инженер программист', 'description': 'Зарплата и Кадры, Учет и Отчетность, E-сайты (сайты изданий холдинга) - AspNet, MVC, MS SQL, Redis, Net Core, Docker, Unity'}, {'start': '2015-06-01', 'end': '2016-08-01', 'company': 'Revenue Well', 'company_id': None, 'industry': None, 'industries': [], 'area': None, 'company_url': 'http://www.revenuewell.com', 'employer': None, 'position': 'Developer', 'description': 'Разработка ПО для дантистов (фриланс США) (C# WPF NHibernate)'}, {'start': '2011-04-01', 'end': '2014-10-01', 'company': 'Клик Персонал', 'company_id': '1374771', 'industry': None, 'industries': [{'id': '7.540', 'name': 'Разработка программного обеспечения'}, {'id': '7.539', 'name': 'Системная интеграция,  автоматизации технологических и бизнес-процессов предприятия, ИТ-консалтинг'}], 'area': {'id': '113', 'name': 'Россия', 'url': 'https://api.hh.ru/areas/113'}, 'company_url': None, 'employer': {'id': '707807', 'name': 'Клик Персонал', 'url': 'https://api.hh.ru/employers/707807', 'alternate_url': 'https://hh.ru/employer/707807', 'logo_urls': {'90': 'https://hh.ru/employer/logo/707807'}}, 'position': 'Программист', 'description': '1.\\tСистема SMSS, (C#, MSSQL, Spring.NET). Высоконагруженный сервер, различные системы и подсистемы.\\r\\n2.\\tСистема DWH (C#, MSSQL, Spring.NET, WPF, WCF, DewExpress, ASN1) . Сложная система сервисов регистрации, хранения, обработки, анализа и распределения данных траффика (голосового, смс, HLR, GPRS …). Умеет работать с различными вендорами (Alcatel, Siemens, Huawei, Nokia, Ericsson …), многими версиями оборудования вендоров. Настраивается под различные нужды (напр работает в разных странах СНГ). \\r\\n3.\\tСистема Theseus – (C#, MSSQL, Spring.NET, WPF, WCF, DewExpress). Система анализа данных траффика.\\r\\n4.\\tСистема Comverse – (C#, MSSQL). Система регистрации, хранения, обработки, анализа и распределения данных траффика для Comverse.\\r\\n5.\\tSMSPorter (C#, MSSQL, WCF). Система для автоматизации отправки СМС. Множество настроек расписания, правил и т.п.\\r\\n6.\\t… - множество подсистем и модулей других систем .'}, {'start': '2013-01-01', 'end': '2013-07-01', 'company': 'Extrime Fitness', 'company_id': None, 'industry': None, 'industries': [{'id': '49.410', 'name': 'Спортивные и фитнес-клубы'}], 'area': {'id': '4', 'name': 'Новосибирск', 'url': 'https://api.hh.ru/areas/4'}, 'company_url': None, 'employer': None, 'position': 'программист', 'description': 'Программирование терминалов оплаты. GSM модемы, фискальные термопринтеры, купюроприемники, WEB-камеры.'}, {'start': '2010-04-01', 'end': '2012-09-01', 'company': 'Центр автоматизации энергосбережения', 'company_id': None, 'industry': None, 'industries': [{'id': '36.403', 'name': 'Государственные организации'}, {'id': '7.540', 'name': 'Разработка программного обеспечения'}], 'area': None, 'company_url': None, 'employer': None, 'position': 'Ведущий программист .NET', 'description': '1. «XML Constructor» (C#, Windows, XML, XSD, HTML) что то типа визуального html редактора только для особого использования в энергосбережении т.е. со своими тэгами автоматизирующими отображение на странице html (обрабатываются на сервере в xml формате).\\r\\n2. «Энергопасспорта» (C#, WCF, bltoolkit, MySQL, MSSQL, Oracle, XML, XSD, Silverlight) набор сервисов для работы по федеральной программе энергосбережения в теме энергопасспортов, серверная часть WCF, клиентская - Silverlight, установщик - Windows Installer XML.\\r\\n3. «DB Converter» (C#, Windows, MSSQL, MySQL, XSD, Word) конвертер из XSD в MySQL, MSSQL и табличное описание схемы в ворд.\\r\\n4. \"Silverlight XML Constructor\" (C#, Silverlight, Windows, XML, XSD, HTML) что то типа визуального фотошопа только для особого использования в энергосбережении т.е. со своими тэгами автоматизирующими отображение на странице html (обрабатываются на сервере в xml формате).\\r\\n5. \"АРМ Ручного ввода для программ энергосбережения\" - (C#, Silverlight, Windows, XML, XSD, WCF) - АРМ автоматизации ввода данных по федеральной программе энергосбережения.'}, {'start': '2010-06-01', 'end': '2011-12-01', 'company': 'ФГУ Российское Энергетическое Агентство Министерста Энергетики РФ', 'company_id': None, 'industry': None, 'industries': [{'id': '36.403', 'name': 'Государственные организации'}], 'area': None, 'company_url': None, 'employer': None, 'position': 'Главный специалист Отдела технической экспертизы технического департамента', 'description': '1.\\tАРМ МЭЭ РО («Мониторинг эффективности. Регламентированная отчетность»). Silverlight, C#, WCF, Oracle, bltoolkit, WIX, XML, XSD. АРМ по гос заказу.\\r\\n2.\\tАРМ Энергоаудитор. WPF, C#, MS SQL, bltoolkit, DewExpress, Telerik, XML, SQLite, XPath'}, {'start': '2008-12-01', 'end': '2010-03-01', 'company': 'Федеральное Государственное Учреждение Научно-исследовательский центр \"Охрана\" МВД России', 'company_id': None, 'industry': None, 'industries': [{'id': '36.403', 'name': 'Государственные организации'}], 'area': None, 'company_url': None, 'employer': None, 'position': 'старший научный сотрудник', 'description': '1. «Новосвет» (C#, Windows, MS SQL) Системы охраны линий осветительной сети (используется в городских осветительных станциях Новосибирска, Чулыма, Барнаула, Кемерово). Электрические шкафы установлены на подстанциях и принимая смс-сообщение от программы включают или выключают напряжение. Программа может запрашивать состояние электрической линии просматривать его на карте, искать разрывы, связь через GSM модем по смскам.\\r\\n2. «Технические средства» (C#, Windows) справочник технических средств охраны. Выдает список каталогов, файлов doc, pdf, html, открывает их во встроенном броузере. Активация по email, возможность тестирования.\\r\\n3. «Технические средства WM» (C#, Windows Mobile) смотри пункт 2 под Windows Mobile.\\r\\n4. «Патруль» (C#, Windows) программа для считывания и анализа данных прибора «Патруль» по COM порту. Патрульные производят обход территории и по расписанию прикладывают прибор «Патруль» к ключам. Прибор запоминает время и номер метки. Программа считывает данные с прибора и показывает нарушения расписания по JPRS или USB.\\r\\n5. «Техкон» (C#, Windows, acces) программа для работы с прибором «Техкон» по USB или Bluetooth. Прибор с электрической линии считывает информацию о силе тока, напряжении, сопротивлении, температуре, частоте, амплитуде и запоминает их в память. Программа предоставляет данные в табличном и текстовом виде, связь с прибором BlueTooth, USB.\\r\\n6. «Техкон WM» (C#, Windows Mobile) смотри пункт 5 под Windows Mobile.'}], 'language': [{'id': 'eng', 'name': 'Английский', 'level': {'id': 'b2', 'name': 'B2 — Средне-продвинутый'}}, {'id': 'rus', 'name': 'Русский', 'level': {'id': 'l1', 'name': 'Родной'}}], 'metro': {'id': '53.306', 'name': 'Золотая нива', 'lat': 55.037928, 'lng': 82.976044, 'order': 4}, 'recommendation': [], 'relocation': {'type': {'id': 'no_relocation', 'name': 'не готов к переезду'}, 'area': []}, 'schedule': {'id': 'remote', 'name': 'Удаленная работа'}, 'schedules': [{'id': 'remote', 'name': 'Удаленная работа'}, {'id': 'flexible', 'name': 'Гибкий график'}, {'id': 'fullDay', 'name': 'Полный день'}, {'id': 'shift', 'name': 'Сменный график'}], 'site': [], 'travel_time': {'id': 'any', 'name': 'Не имеет значения'}, 'business_trip_readiness': {'id': 'ready', 'name': 'готов к командировкам'}, 'paid_services': [], 'portfolio': [], 'skill_set': ['ADO.NET', 'Ajax', 'ASN1', 'C#', 'Certificate', 'Delphi', 'DewExpress', 'EntityFramework', 'Git', 'LINQ', 'MS Silverlight', 'MS SQL', 'My SQL', 'Net Framework 2-4', 'ORACLE', 'PHP', 'Spring.NET', 'SVN', 'Telerik', 'TFS', 'T-SQL', 'VB', 'WCF', 'Windows Installer XML', 'WPF', 'XML', 'XPath', 'Xsd', 'NHibernate', 'Dapper'], 'has_vehicle': False, 'driver_license_types': [], 'specialization': [{'id': '1.221', 'name': 'Программирование, Разработка', 'profarea_id': '1', 'profarea_name': 'Информационные технологии, интернет, телеком', 'laboring': False}], 'professional_roles': [{'id': '96', 'name': 'Программист, разработчик'}]}\n"
     ]
    }
   ],
   "source": [
    "resume = getResume('09c93be900004f2d620039ed1f736563726574')\n",
    "role_id1 = [role['id'] for role in resume['professional_roles']]\n",
    "print(role_id1)\n",
    "print(resume)"
   ]
  },
  {
   "cell_type": "code",
   "execution_count": null,
   "metadata": {
    "id": "A2yNVdiNaoCV"
   },
   "outputs": [],
   "source": [
    "#09c93be900004f2d620039ed1f736563726574\n",
    "def get_resume_vector(id):\n",
    "    # text cleaning and vectorizing a resume\n",
    "    \n",
    "    filtered_tokens = []\n",
    "    resume_words_lst = []\n",
    "    \n",
    "    resume = getResume(id)\n",
    "    role_id1 = [role['id'] for role in resume['professional_roles']]\n",
    "    string = resume['title'].lower() + ' '\n",
    "    for word in resume['skill_set']:\n",
    "        string += word.lower() + ' '\n",
    "    for dct in resume['experience']:\n",
    "        string += dct['description'].lower() + ' '\n",
    "    if resume['skills']:\n",
    "        string += resume['skills'].lower()\n",
    "    token_str = word_tokenize(string, language='russian')\n",
    "    for token in token_str:\n",
    "          if token not in stop_words and token not in punct and 'ə' not in token:\n",
    "              stemmed_token = stemmer.stem(token)\n",
    "              filtered_tokens.append(stemmed_token)\n",
    "    resume_words = ' '.join(filtered_tokens)\n",
    "    with open(\"roles_dictionary.json\", \"r\") as f:\n",
    "        dictionary = json.loads(f.read())\n",
    "    resume_words_lst.append(resume_words)\n",
    "    vectorizer = CountVectorizer(vocabulary=dictionary[role_id1[0]])\n",
    "    vector_resume = vectorizer.fit_transform(resume_words_lst)\n",
    "    return vector_resume.toarray()"
   ]
  },
  {
   "cell_type": "code",
   "execution_count": null,
   "metadata": {
    "id": "TGv4JV3JaoCW",
    "outputId": "ea969f51-8108-4b6e-b723-a2ac4b71f5e3",
    "scrolled": true
   },
   "outputs": [
    {
     "data": {
      "text/plain": [
       "array([[ 0,  2,  0,  1,  0,  0,  0,  0,  0,  0,  0,  0,  2,  7,  1,  0,\n",
       "         0,  7,  1,  0, 10,  0,  0,  1,  0,  0,  0,  0,  1,  0,  0,  0,\n",
       "         0,  1,  0,  1,  0,  0,  2,  0,  8,  3,  0,  0,  0,  0,  0,  1,\n",
       "         0,  0,  0,  0,  0,  0,  0,  2,  0,  0,  6,  0,  0,  0,  0,  0,\n",
       "         0,  0,  0,  0,  1,  0,  1,  0,  0,  3,  0,  0,  0,  0,  0,  0,\n",
       "         0,  0,  0,  0,  0,  0,  0,  0,  2,  0,  0,  0,  0,  0,  0,  0,\n",
       "         0,  0,  0,  0,  0,  0,  0,  0,  2,  0,  0,  0,  0,  0,  0,  6,\n",
       "         0,  0,  0,  2,  0,  0,  0,  1,  0,  1,  0,  0,  0,  0,  0,  0,\n",
       "         0,  1,  1,  0,  1,  0,  0,  0,  0,  0,  0,  0,  0,  0,  0,  0,\n",
       "         0,  0,  0,  0,  0,  0,  0,  0,  0,  1,  0,  2,  1,  0,  0,  0,\n",
       "         0,  0,  0,  0,  0,  0,  0,  9,  0,  0,  0,  0,  1,  0,  0,  0,\n",
       "         0,  0,  0,  0,  3,  4,  0,  4,  0,  0,  0,  0,  0,  0,  0,  0,\n",
       "         0,  0,  0,  0,  0,  0,  0,  0,  0,  0,  0,  0,  0,  0,  0,  0,\n",
       "         0,  0,  0,  0,  0,  0,  0,  0,  0,  0,  0,  0,  0,  0,  0,  0,\n",
       "         0,  0,  0,  0,  2,  0,  0,  0,  0,  0,  1,  0,  0,  1,  0,  0,\n",
       "         0,  2,  0,  0,  0,  0,  0,  0,  1,  0,  0,  1,  0,  0,  0,  0,\n",
       "         0,  0,  0,  0,  0,  0,  0,  0,  0,  0,  0,  0,  0,  0,  0,  2,\n",
       "         0,  0,  0,  0,  0,  0,  0,  0,  0,  0,  0,  0,  0,  0,  0,  0,\n",
       "         0,  0,  0,  0,  1,  0,  0,  0,  0,  0,  0,  0,  0,  0,  3,  0,\n",
       "         0,  0,  0,  0,  0,  0,  0,  0,  0,  0,  1,  0,  0,  0,  0,  0,\n",
       "         0,  0,  0,  0,  0,  0,  0,  0,  0,  0,  1,  0,  0,  0,  0,  0,\n",
       "         0,  0,  0,  0,  0,  0,  0,  0,  0,  0,  1,  0,  0,  0,  0,  1,\n",
       "         0,  0,  0,  1,  0,  0,  0,  0,  0,  0,  1,  0,  0,  0,  0,  0,\n",
       "         0,  0,  1,  0,  0,  0,  0,  0,  0,  0,  0,  0,  0,  0,  0,  0,\n",
       "         0,  0,  0,  0,  0,  0,  0,  0,  0,  0,  0,  0,  0,  0,  0,  0,\n",
       "         0,  0,  0,  0,  0,  0,  0,  0,  0,  0,  0,  0,  0,  0,  0,  0,\n",
       "         0,  0,  1,  0,  0,  0,  0,  0,  0,  0, 13,  0,  0,  0,  1,  0,\n",
       "         0,  0,  1,  0,  0,  0,  0,  0,  0,  0,  0,  0,  0,  0,  0,  0,\n",
       "         0,  0,  0,  0,  0,  2,  0,  0,  0,  0,  0,  0,  0,  0,  0,  0,\n",
       "         0,  0,  0,  0,  0,  0,  3,  0,  0,  0,  0,  0,  0,  0,  0,  0,\n",
       "         0,  0,  0,  0,  1,  0,  0,  0,  0,  0,  0,  0,  0,  0,  0,  0,\n",
       "         0,  0,  0,  0]], dtype=int64)"
      ]
     },
     "execution_count": 24,
     "metadata": {},
     "output_type": "execute_result"
    }
   ],
   "source": [
    "get_resume_vector('09c93be900004f2d620039ed1f736563726574')"
   ]
  },
  {
   "cell_type": "code",
   "execution_count": null,
   "metadata": {
    "id": "Xs_7Hqm5aoCW"
   },
   "outputs": [],
   "source": [
    "def get_a_vacancy(id):\n",
    "    # getting vacancy information\n",
    "    \n",
    "    vacancyResponse = requests.get('https://api.hh.ru/vacancies/' + id, headers=headersForVacancy)\n",
    "    if vacancyResponse.status_code == 200:\n",
    "        return vacancyResponse.json()\n",
    "    else:\n",
    "        return False"
   ]
  },
  {
   "cell_type": "code",
   "execution_count": null,
   "metadata": {
    "id": "t2qrZd4jaoCW",
    "outputId": "6475081d-a831-4f26-fa3b-4a7f3dada21b"
   },
   "outputs": [
    {
     "data": {
      "text/plain": [
       "{'id': '42222926',\n",
       " 'premium': True,\n",
       " 'billing_type': {'id': 'premium', 'name': 'Премиум'},\n",
       " 'relations': [],\n",
       " 'name': 'Разработчик C#',\n",
       " 'insider_interview': None,\n",
       " 'response_letter_required': False,\n",
       " 'area': {'id': '3',\n",
       "  'name': 'Екатеринбург',\n",
       "  'url': 'https://api.hh.ru/areas/3'},\n",
       " 'salary': {'from': 120000, 'to': None, 'currency': 'RUR', 'gross': False},\n",
       " 'type': {'id': 'open', 'name': 'Открытая'},\n",
       " 'address': {'city': 'Екатеринбург',\n",
       "  'street': 'улица Шейнкмана',\n",
       "  'building': '55',\n",
       "  'description': None,\n",
       "  'lat': 56.832034,\n",
       "  'lng': 60.587539,\n",
       "  'raw': 'Екатеринбург, улица Шейнкмана, 55',\n",
       "  'metro': None,\n",
       "  'metro_stations': []},\n",
       " 'allow_messages': True,\n",
       " 'site': {'id': 'hh', 'name': 'hh.ru'},\n",
       " 'experience': {'id': 'between3And6', 'name': 'От 3 до 6 лет'},\n",
       " 'schedule': {'id': 'remote', 'name': 'Удаленная работа'},\n",
       " 'employment': {'id': 'full', 'name': 'Полная занятость'},\n",
       " 'department': None,\n",
       " 'contacts': {'name': 'Харченко Мария',\n",
       "  'email': 'hr@knopka.com',\n",
       "  'phones': [{'comment': None,\n",
       "    'city': '912',\n",
       "    'number': '6321570',\n",
       "    'country': '7'}]},\n",
       " 'description': '<p>Кнопка — это компания, которая ведёт бухгалтерское обслуживание других компаний с помощью IT. Мы не стартап, а прибыльная компания с восьмилетней историей, 1500+ клиентов в обслуживании и планы по кратному росту.</p> <p>Наши технологии не имеют аналогов, мы собираемся стать game changer на рынке бухгалтерского обслуживания в России!</p> <p>Вся Кнопка, не только разработчики, работает по скраму.<br />Роадмэпы на несколько месяцев, итерации на 2 недели, и утренняя синхронизация внутри команды. У нас 3 команды разработчиков по 3-4 человека, которые занимаются разными направлениями — инфраструктурными задачами, клиентским приложением, внутренней АРМ, автоматизацией процессов. Можешь выбирать то, что тебе интересно.</p> <p><strong>Как мы работаем:</strong></p> <ul> <li>Перед тем как задачи пойдут в итерацию, они прорабатываются до уровня понимания &quot;как должно работать&quot;, а &quot;как реализовывать&quot; будет твоим решением.</li> <li>Обсуждаем код при работе в паре и на код-ревью</li> <li>Применяем лучшие практики разработки: TDD, CI и частые релизы</li> <li>Стремимся написать чистый код, а не сделать хоть как-то</li> <li>Уделяем значительное время тестам и рефакторингу</li> <li>Сами же поддерживаем свой продукт, поэтому делаем сразу хорошо</li> <li>Для трекинга итераций используем Trello, для программирования - софт от JetBrains, для всего остального - корпоративный Google</li> </ul> <p>Типичный процесс работы над задачей выглядит так: тесты -&gt; код -&gt; ревью -&gt; (иногда доработка -&gt; тесты) -&gt; стенд -&gt; релиз одной кнопкой. В конце итерации обсуждаем что и как было (устная преза), что улучшить (ретро), и планируем следующую.</p> <p>Кроме программистов, есть бизнес-аналитики и UX-дизайнеры. Они помогут разобраться в том, как должен работать, выглядеть и взаимодействовать твой код с пользователями и другими частями системы.<br />Серверами и процессами workflow других отделов в Jira - занимается отдельная команда админов.</p> <p>Также есть проджект и 1С-программисты. Ты будешь заниматься только профильными вопросами, а если захочешь попробовать что-то ещё, мы всегда “за”!</p> <p><strong>В процессе работы ты будешь:</strong></p> <ul> <li>Создавать новые инструменты и роботов для автоматизации бухгалтерского и юридического обслуживания.</li> <li>Придумывать и обсуждать новые фичи и механики взаимодействия отделов.</li> <li>Участвовать в планировании итераций, давать и получать обратную связь по итерации.</li> <li>Программировать в одиночку и в паре; ревьюить и получать code review, покрывать код тестами.</li> </ul> <p><strong>Наш стэк:</strong><br />Бэк: C# 9, NUnit, Oracle и MS SQL через ORM на LINQ, немного RabbitMQ и Elasticsearch</p> <p>Фронт (его немного, не знаешь - быстро научим): typescript, react, mobx, jsx, БЭМ, для тестов Selenium webdriver</p> <p><strong>Кто нам нужен:</strong><br />Мы хотим взять на работу человека, который хорошо знает современный C# и алгоритмы, при этом необязательно иметь большой опыт промышленной разработки.</p> <p>Разработчики разного уровня: старшие, опытные, джуны.<br /><strong>Старшие </strong>получат интересные задачи и возможности для роста: в управлении командой, или в аналитике или проектирование сервиса.</p> <p><strong>Опытные:</strong> если у тебя есть крутые практики и инструменты для работы, мы будем рады их попробовать и внедрить.<br /><strong>Джуны </strong>за 2-3 месяца сильно прокачают свой уровень. Мы готовы взять даже без опыта работы, если были свои проекты, можешь показать код и пройдёшь собеседование.</p> <p><strong>Как попасть в нашу команду:</strong></p> <ol> <li>Откликайся на вакансию.</li> <li>В этот же день мы позвоним и договоримся о собеседовании.</li> <li>Приходи на онлайн собеседование с разработчиками.</li> <li>Получи оффер за день.</li> </ol> <p><strong>Почему у нас классно работать? </strong></p> <p>— Основное время работы компании с 9 до 18 Москвы.<br />Если очень нужно, можно немного сдвинуть рабочий день.</p> <p>— Можешь работать удалённо, а можешь в офисе, доступ к которому круглосуточный, он в центре, с собственной парковкой, спортзалом, кухней, диванами и самокатами.</p> <p>— Технологии мы используем также для процессов в компании, например для работы над бухгалтерским процессом используется метод конвейера Toyota Production System.</p> <p>— Мощные компьютеры и современные мониторы высокого разрешения.</p> <p>— Регулярный фидбэк и ревью: каждые полгода мы обсуждаем твои достижения и соответствие ЗП твоему уровню. Зарплата растёт вместе с твоими навыками.</p> <p>Ещё сомневаешься?<br />Ходить на работу с удовольствием и кайфовать от того, что делаешь — это значит работать в Кнопке.</p> <p> </p>',\n",
       " 'branded_description': None,\n",
       " 'vacancy_constructor_template': None,\n",
       " 'key_skills': [{'name': 'C#'},\n",
       "  {'name': '.NET Framework'},\n",
       "  {'name': 'SQL'},\n",
       "  {'name': 'Java'}],\n",
       " 'accept_handicapped': False,\n",
       " 'accept_kids': False,\n",
       " 'archived': False,\n",
       " 'response_url': None,\n",
       " 'specializations': [{'id': '1.221',\n",
       "   'name': 'Программирование, Разработка',\n",
       "   'profarea_id': '1',\n",
       "   'profarea_name': 'Информационные технологии, интернет, телеком'}],\n",
       " 'professional_roles': [{'id': '96', 'name': 'Программист, разработчик'}],\n",
       " 'code': None,\n",
       " 'hidden': False,\n",
       " 'quick_responses_allowed': False,\n",
       " 'driver_license_types': [],\n",
       " 'accept_incomplete_resumes': False,\n",
       " 'employer': {'id': '1477344',\n",
       "  'name': 'КНОПКА',\n",
       "  'url': 'https://api.hh.ru/employers/1477344',\n",
       "  'alternate_url': 'https://hh.ru/employer/1477344',\n",
       "  'logo_urls': {'original': 'https://hhcdn.ru/employer-logo-original/20968.png',\n",
       "   '240': 'https://hhcdn.ru/employer-logo/1050240.png',\n",
       "   '90': 'https://hhcdn.ru/employer-logo/1050239.png'},\n",
       "  'vacancies_url': 'https://api.hh.ru/vacancies?employer_id=1477344',\n",
       "  'trusted': True},\n",
       " 'published_at': '2021-12-14T09:05:06+0300',\n",
       " 'created_at': '2021-12-14T09:05:06+0300',\n",
       " 'negotiations_url': None,\n",
       " 'suitable_resumes_url': None,\n",
       " 'apply_alternate_url': 'https://hh.ru/applicant/vacancy_response?vacancyId=42222926',\n",
       " 'has_test': False,\n",
       " 'test': None,\n",
       " 'alternate_url': 'https://hh.ru/vacancy/42222926',\n",
       " 'working_days': [],\n",
       " 'working_time_intervals': [],\n",
       " 'working_time_modes': [],\n",
       " 'accept_temporary': False}"
      ]
     },
     "execution_count": 26,
     "metadata": {},
     "output_type": "execute_result"
    }
   ],
   "source": [
    "get_a_vacancy('42222926')"
   ]
  },
  {
   "cell_type": "code",
   "execution_count": null,
   "metadata": {
    "id": "sVrbn-KAaoCX"
   },
   "outputs": [],
   "source": [
    "def get_vacancy_vector(id):\n",
    "    # text cleaning and vectorizing a vacancy\n",
    "    \n",
    "    filtered_tokens = []\n",
    "    vacancy_words_lst = []\n",
    "    \n",
    "    vacancy = get_a_vacancy(id)\n",
    "    role_id1 = [role['id'] for role in vacancy['professional_roles']]\n",
    "    string = vacancy['name'].lower() + ' '\n",
    "    for word in vacancy['key_skills']:\n",
    "        string += word['name'].lower() + ' '\n",
    "    soup = BeautifulSoup(vacancy['description'], 'html.parser')\n",
    "    string += soup.text.lower()\n",
    "    token_str = word_tokenize(string, language='russian')\n",
    "    for token in token_str:\n",
    "          if token not in stop_words and token not in punct and 'ə' not in token:\n",
    "              stemmed_token = stemmer.stem(token)\n",
    "              filtered_tokens.append(stemmed_token)\n",
    "    vacancy_words = ' '.join(filtered_tokens)\n",
    "    with open(\"roles_dictionary.json\", \"r\") as f:\n",
    "        dictionary = json.loads(f.read())\n",
    "    vacancy_words_lst.append(vacancy_words)\n",
    "    vectorizer = CountVectorizer(vocabulary=dictionary[role_id1[0]])\n",
    "    vector_vacancy = vectorizer.fit_transform(vacancy_words_lst)\n",
    "    return vector_vacancy.toarray()"
   ]
  },
  {
   "cell_type": "code",
   "execution_count": null,
   "metadata": {
    "id": "D7095_TMaoCX",
    "outputId": "4f2aacc2-552d-459e-91b0-098c8ebb97d4"
   },
   "outputs": [
    {
     "data": {
      "text/plain": [
       "array([[1, 9, 1, 2, 0, 5, 1, 5, 3, 5, 4, 1, 7, 2, 1, 0, 0, 0, 1, 0, 0, 1,\n",
       "        0, 0, 0, 4, 2, 1, 0, 7, 1, 1, 1, 2, 0, 1, 0, 1, 1, 0, 1, 0, 1, 0,\n",
       "        0, 0, 0, 0, 0, 0, 2, 1, 0, 0, 0, 3, 0, 0, 0, 0, 0, 0, 0, 6, 1, 2,\n",
       "        0, 1, 3, 2, 0, 0, 0, 0, 1, 1, 0, 1, 2, 0, 0, 0, 2, 0, 1, 0, 0, 0,\n",
       "        0, 0, 0, 0, 0, 0, 0, 0, 0, 0, 0, 1, 0, 0, 0, 3, 0, 1, 0, 0, 3, 0,\n",
       "        0, 1, 0, 0, 0, 0, 0, 0, 0, 0, 0, 0, 0, 1, 0, 0, 1, 1, 0, 0, 0, 0,\n",
       "        1, 0, 0, 1, 0, 0, 0, 0, 1, 2, 0, 0, 0, 0, 0, 0, 0, 3, 2, 3, 1, 0,\n",
       "        0, 2, 1, 0, 4, 1, 1, 0, 0, 0, 0, 0, 1, 0, 0, 1, 2, 0, 2, 0, 0, 0,\n",
       "        0, 0, 0, 0, 0, 0, 0, 0, 0, 5, 0, 0, 0, 0, 0, 1, 0, 0, 0, 0, 0, 1,\n",
       "        0, 0, 1, 0, 0, 0, 0, 0, 1, 0, 0, 0, 0, 0, 1, 0, 2, 0, 0, 0, 0, 0,\n",
       "        1, 0, 0, 0, 0, 0, 1, 0, 0, 0, 0, 0, 1, 0, 2, 0, 1, 0, 0, 0, 0, 1,\n",
       "        0, 0, 0, 0, 0, 0, 0, 0, 0, 0, 2, 0, 1, 1, 0, 0, 0, 0, 2, 0, 0, 0,\n",
       "        0, 0, 0, 0, 0, 0, 0, 0, 0, 0, 0, 0, 0, 0, 1, 0, 0, 0, 0, 0, 2, 0,\n",
       "        0, 0, 0, 0, 0, 0, 0, 1, 1, 0, 1, 0, 0, 1, 0, 0, 1, 0, 1, 0, 0, 1,\n",
       "        0, 1, 0, 0, 0, 0, 0, 0, 0, 0, 0, 0, 0, 0, 0, 4, 0, 0, 0, 0, 0, 0,\n",
       "        0, 0, 0, 0, 0, 0, 0, 0, 0, 0, 0, 0, 0, 1, 1, 0, 0, 0, 0, 2, 1, 0,\n",
       "        0, 0, 0, 2, 0, 0, 0, 1, 0, 0, 0, 0, 0, 1, 0, 0, 0, 0, 0, 5, 0, 0,\n",
       "        0, 0, 0, 1, 0, 0, 0, 0, 0, 0, 0, 0, 0, 0, 0, 0, 0, 1, 1, 0, 0, 0,\n",
       "        0, 1, 0, 0, 0, 0, 0, 0, 0, 1, 1, 0, 0, 0, 0, 0, 0, 2, 0, 0, 1, 1,\n",
       "        0, 0, 0, 0, 1, 0, 0, 0, 0, 0, 0, 0, 0, 1, 0, 0, 0, 0, 0, 0, 0, 0,\n",
       "        0, 1, 0, 0, 0, 0, 0, 0, 0, 0, 0, 0, 1, 0, 0, 0, 0, 0, 0, 0, 0, 0,\n",
       "        0, 0, 1, 0, 0, 1, 0, 0, 1, 1, 1, 0, 0, 0, 1, 0, 0, 0, 0, 0, 0, 0,\n",
       "        0, 0, 0, 0, 0, 0, 0, 1, 0, 0, 0, 0, 1, 0, 0, 0]], dtype=int64)"
      ]
     },
     "execution_count": 28,
     "metadata": {},
     "output_type": "execute_result"
    }
   ],
   "source": [
    "get_vacancy_vector('42222926')"
   ]
  },
  {
   "cell_type": "code",
   "execution_count": null,
   "metadata": {
    "id": "uRRMhdfoaoCa"
   },
   "outputs": [],
   "source": [
    "def get_cosine_similarity(vec1, vec2):\n",
    "    # counting cosine similarity between two vectors\n",
    "    \n",
    "    similarity = 1 - spatial.distance.cosine(vec1, vec2)\n",
    "    if similarity > 0.5:\n",
    "        return 0.5\n",
    "    return 1 - spatial.distance.cosine(vec1, vec2)"
   ]
  },
  {
   "cell_type": "code",
   "execution_count": null,
   "metadata": {
    "id": "4G7nmGYxaoCb",
    "outputId": "30c09600-df14-4812-cf0c-8ffa2d6de222"
   },
   "outputs": [
    {
     "data": {
      "text/plain": [
       "0.14222673479551629"
      ]
     },
     "execution_count": 30,
     "metadata": {},
     "output_type": "execute_result"
    }
   ],
   "source": [
    "get_cosine_similarity(get_vacancy_vector('42222926'), get_resume_vector('09c93be900004f2d620039ed1f736563726574'))"
   ]
  },
  {
   "cell_type": "code",
   "execution_count": null,
   "metadata": {
    "id": "yf8CHTe9aoCb",
    "outputId": "0de3145f-e551-463f-f97a-af4ca371388e"
   },
   "outputs": [
    {
     "data": {
      "text/plain": [
       "0.14861295035835198"
      ]
     },
     "execution_count": 31,
     "metadata": {},
     "output_type": "execute_result"
    }
   ],
   "source": [
    "get_cosine_similarity(get_vacancy_vector('49869318'), get_resume_vector('09c93be900004f2d620039ed1f736563726574'))"
   ]
  },
  {
   "cell_type": "code",
   "execution_count": null,
   "metadata": {
    "id": "dtbuGURsaoCb",
    "outputId": "16485f0f-59a3-479b-84b2-ffff09f0e682"
   },
   "outputs": [
    {
     "data": {
      "text/plain": [
       "0.2845621368982486"
      ]
     },
     "execution_count": 32,
     "metadata": {},
     "output_type": "execute_result"
    }
   ],
   "source": [
    "get_cosine_similarity(get_vacancy_vector('49869318'), get_resume_vector('1a6443020008943f530039ed1f64483378476e'))"
   ]
  },
  {
   "cell_type": "code",
   "execution_count": null,
   "metadata": {
    "id": "RzxiqOE1aoCc",
    "outputId": "a0f51ebb-d911-4a67-ee82-b77619857345"
   },
   "outputs": [
    {
     "data": {
      "text/plain": [
       "0.23108538743337892"
      ]
     },
     "execution_count": 33,
     "metadata": {},
     "output_type": "execute_result"
    }
   ],
   "source": [
    "get_cosine_similarity(get_vacancy_vector('42222926'), get_resume_vector('1a6443020008943f530039ed1f64483378476e'))"
   ]
  },
  {
   "cell_type": "code",
   "execution_count": null,
   "metadata": {
    "id": "tzLlDoD5aoCc",
    "outputId": "2d891cf2-6f94-4f9a-e1a3-5f5023faf9d0"
   },
   "outputs": [
    {
     "data": {
      "text/plain": [
       "0.3019104835450963"
      ]
     },
     "execution_count": 34,
     "metadata": {},
     "output_type": "execute_result"
    }
   ],
   "source": [
    "get_cosine_similarity(get_vacancy_vector('48952810'), get_resume_vector('1a6443020008943f530039ed1f64483378476e'))"
   ]
  },
  {
   "cell_type": "code",
   "execution_count": null,
   "metadata": {
    "id": "6heyS81XaoCc"
   },
   "outputs": [],
   "source": [
    "def get_key_skills_evaluation(res_id, vac_id):\n",
    "    # getting a key skills similarity metric\n",
    "    \n",
    "    res = getResume(res_id)\n",
    "    vac = get_a_vacancy(vac_id)\n",
    "    res_lst = []\n",
    "    vac_lst = []\n",
    "    counter = 0\n",
    "    \n",
    "    for word in res['skill_set']:\n",
    "        res_lst.append(word.lower())\n",
    "    for word in vac['key_skills']:\n",
    "        vac_lst.append(word['name'].lower())\n",
    "    for i in res_lst:\n",
    "        if i in vac_lst:\n",
    "            counter += 1\n",
    "    print(res_lst)\n",
    "    print(vac_lst)\n",
    "    if len(vac_lst) > 0:\n",
    "        evaluation = (1/len(vac_lst)*counter)/2\n",
    "    else:\n",
    "        evaluation = 0\n",
    "    if evaluation > 0.5:\n",
    "        return 0.5\n",
    "    return evaluation"
   ]
  },
  {
   "cell_type": "code",
   "execution_count": null,
   "metadata": {
    "id": "KW_mx5v0aoCc",
    "outputId": "f3ad0d69-2629-4d2b-b044-33bcc39db041"
   },
   "outputs": [
    {
     "name": "stdout",
     "output_type": "stream",
     "text": [
      "['ответственность', 'коммуникабельность', 'внимательность', 'трудолюбие', 'желание учиться', 'честность', 'грамотность', 'работа в команде', 'fiddler', 'api', 'test case', 'пользователь пк', 'html', 'css', 'qa', 'scrum', 'atlassian jira', 'тестирование', 'postman', 'json api', 'регресcионное тестирование', 'функциональное тестирование']\n",
      "[]\n"
     ]
    },
    {
     "data": {
      "text/plain": [
       "0"
      ]
     },
     "execution_count": 57,
     "metadata": {},
     "output_type": "execute_result"
    }
   ],
   "source": [
    "get_key_skills_evaluation('1a6443020008943f530039ed1f64483378476e', '48952810')"
   ]
  },
  {
   "cell_type": "code",
   "execution_count": null,
   "metadata": {
    "id": "WrOWyp22aoCd"
   },
   "outputs": [],
   "source": [
    "def get_evaluation(similarity, evaluation):\n",
    "    # getting final evaluation of similarity between a resume and a vacancy\n",
    "    \n",
    "    return similarity + evaluation"
   ]
  },
  {
   "cell_type": "code",
   "execution_count": null,
   "metadata": {
    "id": "_64BwSriaoCd",
    "outputId": "91d3eabb-0ab8-4e89-bf3e-b1be1b7c92db"
   },
   "outputs": [
    {
     "name": "stdout",
     "output_type": "stream",
     "text": [
      "['ado.net', 'ajax', 'asn1', 'c#', 'certificate', 'delphi', 'dewexpress', 'entityframework', 'git', 'linq', 'ms silverlight', 'ms sql', 'my sql', 'net framework 2-4', 'oracle', 'php', 'spring.net', 'svn', 'telerik', 'tfs', 't-sql', 'vb', 'wcf', 'windows installer xml', 'wpf', 'xml', 'xpath', 'xsd', 'nhibernate', 'dapper']\n",
      "['c#', '.net framework', 'sql', 'java']\n"
     ]
    },
    {
     "data": {
      "text/plain": [
       "0.2672267347955163"
      ]
     },
     "execution_count": 54,
     "metadata": {},
     "output_type": "execute_result"
    }
   ],
   "source": [
    "get_evaluation(get_cosine_similarity(get_vacancy_vector('42222926'), get_resume_vector('09c93be900004f2d620039ed1f736563726574')), get_key_skills_evaluation('09c93be900004f2d620039ed1f736563726574', '42222926'))"
   ]
  }
 ],
 "metadata": {
  "colab": {
   "name": "hh1-roles.ipynb",
   "provenance": []
  },
  "kernelspec": {
   "display_name": "Python 3",
   "language": "python",
   "name": "python3"
  },
  "language_info": {
   "codemirror_mode": {
    "name": "ipython",
    "version": 3
   },
   "file_extension": ".py",
   "mimetype": "text/x-python",
   "name": "python",
   "nbconvert_exporter": "python",
   "pygments_lexer": "ipython3",
   "version": "3.7.6"
  }
 },
 "nbformat": 4,
 "nbformat_minor": 1
}
